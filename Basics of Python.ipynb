{
 "cells": [
  {
   "cell_type": "markdown",
   "id": "b1a03852-8028-46a4-b1a7-7116cc364179",
   "metadata": {},
   "source": [
    "## List, Dictionary, Tuple"
   ]
  },
  {
   "cell_type": "code",
   "execution_count": 10,
   "id": "182485e4-31df-47f5-b540-2caab5233d23",
   "metadata": {},
   "outputs": [
    {
     "data": {
      "text/plain": [
       "[20, 30, 40, 50]"
      ]
     },
     "execution_count": 10,
     "metadata": {},
     "output_type": "execute_result"
    }
   ],
   "source": [
    "myList= [20,30,40,50]\n",
    "myList"
   ]
  },
  {
   "cell_type": "code",
   "execution_count": 16,
   "id": "ae3adc16-1eb1-425b-a8eb-a6c34c00b5cc",
   "metadata": {},
   "outputs": [
    {
     "data": {
      "text/plain": [
       "20"
      ]
     },
     "execution_count": 16,
     "metadata": {},
     "output_type": "execute_result"
    }
   ],
   "source": [
    "myList[0] #cant print both like this[0,1]"
   ]
  },
  {
   "cell_type": "code",
   "execution_count": 30,
   "id": "cfb81e46-5bae-4fb7-8962-030b613faf2f",
   "metadata": {},
   "outputs": [
    {
     "data": {
      "text/plain": [
       "[20, 30, 40]"
      ]
     },
     "execution_count": 30,
     "metadata": {},
     "output_type": "execute_result"
    }
   ],
   "source": [
    "myList[0:3] #proper way to print list"
   ]
  },
  {
   "cell_type": "code",
   "execution_count": 38,
   "id": "deb66c35-21a8-443d-89e4-043f293f0302",
   "metadata": {},
   "outputs": [
    {
     "data": {
      "text/plain": [
       "[30, 40]"
      ]
     },
     "execution_count": 38,
     "metadata": {},
     "output_type": "execute_result"
    }
   ],
   "source": [
    "myList[1:3] #calling a list"
   ]
  },
  {
   "cell_type": "code",
   "execution_count": 44,
   "id": "10b3b8a4-30de-4de1-83b9-ce89002664fa",
   "metadata": {},
   "outputs": [
    {
     "data": {
      "text/plain": [
       "'b'"
      ]
     },
     "execution_count": 44,
     "metadata": {},
     "output_type": "execute_result"
    }
   ],
   "source": [
    "x = [1,'b',2]\n",
    "x[1]"
   ]
  },
  {
   "cell_type": "code",
   "execution_count": 50,
   "id": "f96dc8fb-14da-4672-95bf-a1a1759ba503",
   "metadata": {},
   "outputs": [],
   "source": [
    "dict = {\"You\":\"Bert\",\"Me\": \"John\",\"Him\":\"Alcance\",2:\"Mynum\"} #assigning a dictionanry"
   ]
  },
  {
   "cell_type": "code",
   "execution_count": 60,
   "id": "0de85534-08d6-455d-a9ff-89cc3de78118",
   "metadata": {},
   "outputs": [
    {
     "data": {
      "text/plain": [
       "'Bert'"
      ]
     },
     "execution_count": 60,
     "metadata": {},
     "output_type": "execute_result"
    }
   ],
   "source": [
    "dict[\"You\"] #calling a dictionary, call always using keys."
   ]
  },
  {
   "cell_type": "code",
   "execution_count": 70,
   "id": "34cf54bb-6df2-4edc-8048-d635fb750d12",
   "metadata": {},
   "outputs": [
    {
     "data": {
      "text/plain": [
       "dict_keys(['You', 'Me', 'Him', 2])"
      ]
     },
     "execution_count": 70,
     "metadata": {},
     "output_type": "execute_result"
    }
   ],
   "source": [
    "dict.keys() #calling all the keys in the dictionary"
   ]
  },
  {
   "cell_type": "code",
   "execution_count": 66,
   "id": "4adf2127-6880-4dc2-9672-a3c730954d08",
   "metadata": {},
   "outputs": [
    {
     "data": {
      "text/plain": [
       "dict_values(['Bert', 'John', 'Alcance', 'Mynum'])"
      ]
     },
     "execution_count": 66,
     "metadata": {},
     "output_type": "execute_result"
    }
   ],
   "source": [
    "dict.values() #calling all the value of the keys in dictionary"
   ]
  },
  {
   "cell_type": "code",
   "execution_count": 72,
   "id": "c628ccd0-7e35-4149-b0f6-06ef9d487cfd",
   "metadata": {},
   "outputs": [
    {
     "data": {
      "text/plain": [
       "{'s1': ['Passed'], 's2': ['Failed', 'Repeat']}"
      ]
     },
     "execution_count": 72,
     "metadata": {},
     "output_type": "execute_result"
    }
   ],
   "source": [
    "students = {\"s1\":[\"Passed\"],\"s2\":[\"Failed\",\"Repeat\"]}\n",
    "students"
   ]
  },
  {
   "cell_type": "code",
   "execution_count": 74,
   "id": "5564a36a-4af4-445b-8a6f-2fdb68ab5431",
   "metadata": {},
   "outputs": [
    {
     "data": {
      "text/plain": [
       "['Failed', 'Repeat']"
      ]
     },
     "execution_count": 74,
     "metadata": {},
     "output_type": "execute_result"
    }
   ],
   "source": [
    "students[\"s2\"]"
   ]
  },
  {
   "cell_type": "code",
   "execution_count": 78,
   "id": "00202175-6edd-4f68-8315-bb9be1784b86",
   "metadata": {},
   "outputs": [
    {
     "data": {
      "text/plain": [
       "'Repeat'"
      ]
     },
     "execution_count": 78,
     "metadata": {},
     "output_type": "execute_result"
    }
   ],
   "source": [
    "students[\"s2\"][1] # call specific value in a key"
   ]
  },
  {
   "cell_type": "code",
   "execution_count": 98,
   "id": "4a31286f-7e33-45ed-bad4-d1ded3321c04",
   "metadata": {},
   "outputs": [
    {
     "data": {
      "text/plain": [
       "[1, 2, 3, 4, 7]"
      ]
     },
     "execution_count": 98,
     "metadata": {},
     "output_type": "execute_result"
    }
   ],
   "source": [
    "tup=(1,2,3,4) #tuple # they cannot modified\n",
    "mylist = [1,2,3,4] #list\n",
    "mylist.append(7) #insert number\n",
    "mylist\n",
    "\n"
   ]
  },
  {
   "cell_type": "code",
   "execution_count": 100,
   "id": "7710c3f9-e02c-4c45-8804-b2718f42a3e4",
   "metadata": {},
   "outputs": [
    {
     "data": {
      "text/plain": [
       "(1, 2, 3, 4)"
      ]
     },
     "execution_count": 100,
     "metadata": {},
     "output_type": "execute_result"
    }
   ],
   "source": [
    "#pip install for jnstalling libraries you can also use \"conda install\" \n",
    "tup"
   ]
  },
  {
   "cell_type": "code",
   "execution_count": null,
   "id": "bbcbaaee-5d56-4f84-bcf5-15f04d0980f7",
   "metadata": {},
   "outputs": [],
   "source": []
  }
 ],
 "metadata": {
  "kernelspec": {
   "display_name": "Python 3 (ipykernel)",
   "language": "python",
   "name": "python3"
  },
  "language_info": {
   "codemirror_mode": {
    "name": "ipython",
    "version": 3
   },
   "file_extension": ".py",
   "mimetype": "text/x-python",
   "name": "python",
   "nbconvert_exporter": "python",
   "pygments_lexer": "ipython3",
   "version": "3.12.4"
  }
 },
 "nbformat": 4,
 "nbformat_minor": 5
}
